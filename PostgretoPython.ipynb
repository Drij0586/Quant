{
 "cells": [
  {
   "cell_type": "code",
   "execution_count": 2,
   "id": "42d0e608",
   "metadata": {},
   "outputs": [],
   "source": [
    "import psycopg2\n",
    "import numpy as np\n",
    "from psycopg2.extensions import register_adapter, AsIs\n",
    "psycopg2.extensions.register_adapter(np.int64, psycopg2._psycopg.AsIs)"
   ]
  },
  {
   "cell_type": "code",
   "execution_count": 3,
   "id": "e786d388",
   "metadata": {},
   "outputs": [],
   "source": [
    "import pandas as pd"
   ]
  },
  {
   "cell_type": "code",
   "execution_count": 35,
   "id": "7ca2f35c",
   "metadata": {},
   "outputs": [],
   "source": [
    "df = pd.read_csv('HINDALCO.csv')\n",
    "records = df.to_records(index = True)"
   ]
  },
  {
   "cell_type": "code",
   "execution_count": 10,
   "id": "eb2bbe27",
   "metadata": {},
   "outputs": [
    {
     "name": "stdout",
     "output_type": "stream",
     "text": [
      "Database created successfully!\n"
     ]
    }
   ],
   "source": [
    "conn = psycopg2.connect(\n",
    "   database=\"postgres\", user='postgres', password='Drij@5860', host='127.0.0.1', port= '5432'\n",
    ")\n",
    "conn.autocommit = True\n",
    "cursor = conn.cursor()\n",
    "sql = '''CREATE DATABASE stocks''';\n",
    "cursor.execute(sql)\n",
    "print(\"Database created successfully!\")\n",
    "conn.close()"
   ]
  },
  {
   "cell_type": "code",
   "execution_count": 42,
   "id": "f5a14621",
   "metadata": {},
   "outputs": [
    {
     "name": "stdout",
     "output_type": "stream",
     "text": [
      "Table created successfully\n"
     ]
    }
   ],
   "source": [
    "conn = psycopg2.connect(\n",
    "    database=\"stocks\", user='postgres', password='Drij@5860', host='127.0.0.1', port= '5432'\n",
    ")\n",
    "conn.autocommit = True\n",
    "cur = conn.cursor()\n",
    "cur.execute('''CREATE TABLE StockData\n",
    "               (Srno INT NOT NULL,\n",
    "                Date DATE NOT NULL,\n",
    "                close FLOAT NOT NULL,\n",
    "                High FLOAT NOT NULL,\n",
    "                Low FLOAT NOT NULL,\n",
    "                open FLOAT NOT NULL,\n",
    "                volume BIGINT NOT NULL,\n",
    "                instrument VARCHAR(255) NOT NULL\n",
    "                );''')\n",
    "               \n",
    "print(\"Table created successfully\")\n",
    "conn.close()"
   ]
  },
  {
   "cell_type": "code",
   "execution_count": 44,
   "id": "2ad1c7d1",
   "metadata": {},
   "outputs": [
    {
     "name": "stdout",
     "output_type": "stream",
     "text": [
      "Data Insert Successfully\n"
     ]
    }
   ],
   "source": [
    "conn = psycopg2.connect(\n",
    "    database=\"stocks\", user='postgres', password='Drij@5860', host='127.0.0.1', port= '5432'\n",
    ")\n",
    "conn.autocommit = True\n",
    "cur = conn.cursor()\n",
    "query = \"\"\"INSERT INTO StockData (Srno ,Date, close, High, Low, open, volume, instrument)\n",
    "            VALUES (%s, %s, %s, %s, %s, %s, %s, %s)\"\"\"\n",
    "cur = conn.cursor()\n",
    "cur.executemany(query, records)\n",
    "conn.close()\n",
    "print(\"Data Insert Successfully\")"
   ]
  },
  {
   "cell_type": "code",
   "execution_count": 53,
   "id": "ed298b0f",
   "metadata": {},
   "outputs": [
    {
     "name": "stdout",
     "output_type": "stream",
     "text": [
      "(datetime.date(2014, 1, 24), 114.0, 115.35, 113.0, 113.15, 5737135, 'HINDALCO')\n",
      "(datetime.date(2014, 1, 27), 111.1, 112.7, 109.3, 112.0, 8724577, 'HINDALCO')\n",
      "(datetime.date(2014, 1, 28), 113.8, 115.0, 109.75, 110.0, 4513345, 'HINDALCO')\n",
      "(datetime.date(2014, 1, 29), 111.75, 114.75, 111.15, 114.5, 4713458, 'HINDALCO')\n",
      "(datetime.date(2014, 1, 30), 108.1, 110.7, 107.6, 110.2, 5077231, 'HINDALCO')\n",
      "(datetime.date(2014, 1, 31), 109.55, 110.0, 107.0, 109.05, 8287236, 'HINDALCO')\n",
      "(datetime.date(2014, 2, 3), 103.45, 109.4, 103.0, 109.0, 5572627, 'HINDALCO')\n",
      "(datetime.date(2014, 2, 4), 102.45, 103.45, 99.8, 102.0, 13935173, 'HINDALCO')\n",
      "(datetime.date(2014, 2, 5), 104.25, 105.15, 101.0, 102.4, 9106760, 'HINDALCO')\n",
      "(datetime.date(2014, 2, 6), 105.75, 106.5, 103.1, 104.65, 10194884, 'HINDALCO')\n",
      "Query done successfully\n"
     ]
    }
   ],
   "source": [
    "conn = psycopg2.connect(\n",
    "    database=\"stocks\", user='postgres', password='Drij@5860', host='127.0.0.1', port= '5432'\n",
    ")\n",
    "conn.autocommit = True\n",
    "cur = conn.cursor()\n",
    "cur.execute(\"SELECT * from StockData LIMIT 10\")\n",
    "rows = cur.fetchall()\n",
    "for row in rows:\n",
    "    print(row)\n",
    "\n",
    "print(\"Query done successfully\");\n",
    "conn.close()"
   ]
  },
  {
   "cell_type": "code",
   "execution_count": null,
   "id": "c86206a3",
   "metadata": {},
   "outputs": [],
   "source": []
  }
 ],
 "metadata": {
  "kernelspec": {
   "display_name": "Python 3 (ipykernel)",
   "language": "python",
   "name": "python3"
  },
  "language_info": {
   "codemirror_mode": {
    "name": "ipython",
    "version": 3
   },
   "file_extension": ".py",
   "mimetype": "text/x-python",
   "name": "python",
   "nbconvert_exporter": "python",
   "pygments_lexer": "ipython3",
   "version": "3.9.6"
  }
 },
 "nbformat": 4,
 "nbformat_minor": 5
}
